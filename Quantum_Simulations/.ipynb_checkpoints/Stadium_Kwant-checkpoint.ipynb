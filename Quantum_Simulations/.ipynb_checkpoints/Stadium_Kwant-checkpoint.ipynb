{
 "cells": [
  {
   "cell_type": "markdown",
   "metadata": {},
   "source": [
    "# Classical and quantum dynamics of electrons in open stadium billiards"
   ]
  },
  {
   "cell_type": "code",
   "execution_count": 2,
   "metadata": {},
   "outputs": [
    {
     "name": "stdout",
     "output_type": "stream",
     "text": [
      "Collecting kwant\n",
      "  Downloading kwant-1.4.2.tar.gz (1.7 MB)\n",
      "Requirement already satisfied: numpy>=1.11.0 in c:\\users\\leblanco.oasis\\anaconda3\\lib\\site-packages (from kwant) (1.19.3)\n",
      "Requirement already satisfied: scipy>=0.17.0 in c:\\users\\leblanco.oasis\\anaconda3\\lib\\site-packages (from kwant) (1.5.0)\n",
      "Collecting tinyarray>=1.2\n",
      "  Downloading tinyarray-1.2.3.tar.gz (37 kB)\n",
      "Building wheels for collected packages: kwant, tinyarray\n",
      "  Building wheel for kwant (setup.py): started\n",
      "  Building wheel for kwant (setup.py): finished with status 'error'\n",
      "  Running setup.py clean for kwant\n",
      "  Building wheel for tinyarray (setup.py): started\n",
      "  Building wheel for tinyarray (setup.py): finished with status 'error'\n",
      "  Running setup.py clean for tinyarray\n",
      "Failed to build kwant tinyarray\n",
      "Installing collected packages: tinyarray, kwant\n",
      "    Running setup.py install for tinyarray: started\n",
      "    Running setup.py install for tinyarray: finished with status 'error'\n"
     ]
    },
    {
     "name": "stderr",
     "output_type": "stream",
     "text": [
      "  ERROR: Command errored out with exit status 1:\n",
      "   command: 'c:\\users\\leblanco.oasis\\anaconda3\\python.exe' -u -c 'import sys, setuptools, tokenize; sys.argv[0] = '\"'\"'C:\\\\Users\\\\leblanco.OASIS\\\\AppData\\\\Local\\\\Temp\\\\pip-install-5j8cfyf3\\\\kwant\\\\setup.py'\"'\"'; __file__='\"'\"'C:\\\\Users\\\\leblanco.OASIS\\\\AppData\\\\Local\\\\Temp\\\\pip-install-5j8cfyf3\\\\kwant\\\\setup.py'\"'\"';f=getattr(tokenize, '\"'\"'open'\"'\"', open)(__file__);code=f.read().replace('\"'\"'\\r\\n'\"'\"', '\"'\"'\\n'\"'\"');f.close();exec(compile(code, __file__, '\"'\"'exec'\"'\"'))' bdist_wheel -d 'C:\\Users\\leblanco.OASIS\\AppData\\Local\\Temp\\pip-wheel-awh18gcc'\n",
      "       cwd: C:\\Users\\leblanco.OASIS\\AppData\\Local\\Temp\\pip-install-5j8cfyf3\\kwant\\\n",
      "  Complete output (108 lines):\n",
      "  running bdist_wheel\n",
      "  running build\n",
      "  running build_py\n",
      "  creating build\n",
      "  creating build\\lib.win-amd64-3.8\n",
      "  creating build\\lib.win-amd64-3.8\\kwant\n",
      "  copying kwant\\builder.py -> build\\lib.win-amd64-3.8\\kwant\n",
      "  copying kwant\\digest.py -> build\\lib.win-amd64-3.8\\kwant\n",
      "  copying kwant\\kpm.py -> build\\lib.win-amd64-3.8\\kwant\n",
      "  copying kwant\\lattice.py -> build\\lib.win-amd64-3.8\\kwant\n",
      "  copying kwant\\plotter.py -> build\\lib.win-amd64-3.8\\kwant\n",
      "  copying kwant\\qsymm.py -> build\\lib.win-amd64-3.8\\kwant\n",
      "  copying kwant\\rmt.py -> build\\lib.win-amd64-3.8\\kwant\n",
      "  copying kwant\\system.py -> build\\lib.win-amd64-3.8\\kwant\n",
      "  copying kwant\\version.py -> build\\lib.win-amd64-3.8\\kwant\n",
      "  copying kwant\\wraparound.py -> build\\lib.win-amd64-3.8\\kwant\n",
      "  copying kwant\\_colormaps.py -> build\\lib.win-amd64-3.8\\kwant\n",
      "  copying kwant\\_common.py -> build\\lib.win-amd64-3.8\\kwant\n",
      "  copying kwant\\_kwant_version.py -> build\\lib.win-amd64-3.8\\kwant\n",
      "  copying kwant\\_plotter.py -> build\\lib.win-amd64-3.8\\kwant\n",
      "  copying kwant\\__init__.py -> build\\lib.win-amd64-3.8\\kwant\n",
      "  creating build\\lib.win-amd64-3.8\\kwant\\continuum\n",
      "  copying kwant\\continuum\\discretizer.py -> build\\lib.win-amd64-3.8\\kwant\\continuum\n",
      "  copying kwant\\continuum\\_common.py -> build\\lib.win-amd64-3.8\\kwant\\continuum\n",
      "  copying kwant\\continuum\\__init__.py -> build\\lib.win-amd64-3.8\\kwant\\continuum\n",
      "  creating build\\lib.win-amd64-3.8\\kwant\\graph\n",
      "  copying kwant\\graph\\defs.py -> build\\lib.win-amd64-3.8\\kwant\\graph\n",
      "  copying kwant\\graph\\__init__.py -> build\\lib.win-amd64-3.8\\kwant\\graph\n",
      "  creating build\\lib.win-amd64-3.8\\kwant\\linalg\n",
      "  copying kwant\\linalg\\cmumps.py -> build\\lib.win-amd64-3.8\\kwant\\linalg\n",
      "  copying kwant\\linalg\\decomp_ev.py -> build\\lib.win-amd64-3.8\\kwant\\linalg\n",
      "  copying kwant\\linalg\\decomp_lu.py -> build\\lib.win-amd64-3.8\\kwant\\linalg\n",
      "  copying kwant\\linalg\\decomp_schur.py -> build\\lib.win-amd64-3.8\\kwant\\linalg\n",
      "  copying kwant\\linalg\\fortran_helpers.py -> build\\lib.win-amd64-3.8\\kwant\\linalg\n",
      "  copying kwant\\linalg\\lll.py -> build\\lib.win-amd64-3.8\\kwant\\linalg\n",
      "  copying kwant\\linalg\\mumps.py -> build\\lib.win-amd64-3.8\\kwant\\linalg\n",
      "  copying kwant\\linalg\\__init__.py -> build\\lib.win-amd64-3.8\\kwant\\linalg\n",
      "  creating build\\lib.win-amd64-3.8\\kwant\\physics\n",
      "  copying kwant\\physics\\dispersion.py -> build\\lib.win-amd64-3.8\\kwant\\physics\n",
      "  copying kwant\\physics\\gauge.py -> build\\lib.win-amd64-3.8\\kwant\\physics\n",
      "  copying kwant\\physics\\leads.py -> build\\lib.win-amd64-3.8\\kwant\\physics\n",
      "  copying kwant\\physics\\noise.py -> build\\lib.win-amd64-3.8\\kwant\\physics\n",
      "  copying kwant\\physics\\symmetry.py -> build\\lib.win-amd64-3.8\\kwant\\physics\n",
      "  copying kwant\\physics\\__init__.py -> build\\lib.win-amd64-3.8\\kwant\\physics\n",
      "  creating build\\lib.win-amd64-3.8\\kwant\\solvers\n",
      "  copying kwant\\solvers\\common.py -> build\\lib.win-amd64-3.8\\kwant\\solvers\n",
      "  copying kwant\\solvers\\default.py -> build\\lib.win-amd64-3.8\\kwant\\solvers\n",
      "  copying kwant\\solvers\\mumps.py -> build\\lib.win-amd64-3.8\\kwant\\solvers\n",
      "  copying kwant\\solvers\\sparse.py -> build\\lib.win-amd64-3.8\\kwant\\solvers\n",
      "  copying kwant\\solvers\\__init__.py -> build\\lib.win-amd64-3.8\\kwant\\solvers\n",
      "  creating build\\lib.win-amd64-3.8\\kwant\\tests\n",
      "  copying kwant\\tests\\test_builder.py -> build\\lib.win-amd64-3.8\\kwant\\tests\n",
      "  copying kwant\\tests\\test_comprehensive.py -> build\\lib.win-amd64-3.8\\kwant\\tests\n",
      "  copying kwant\\tests\\test_kpm.py -> build\\lib.win-amd64-3.8\\kwant\\tests\n",
      "  copying kwant\\tests\\test_lattice.py -> build\\lib.win-amd64-3.8\\kwant\\tests\n",
      "  copying kwant\\tests\\test_operator.py -> build\\lib.win-amd64-3.8\\kwant\\tests\n",
      "  copying kwant\\tests\\test_plotter.py -> build\\lib.win-amd64-3.8\\kwant\\tests\n",
      "  copying kwant\\tests\\test_qsymm.py -> build\\lib.win-amd64-3.8\\kwant\\tests\n",
      "  copying kwant\\tests\\test_rmt.py -> build\\lib.win-amd64-3.8\\kwant\\tests\n",
      "  copying kwant\\tests\\test_system.py -> build\\lib.win-amd64-3.8\\kwant\\tests\n",
      "  copying kwant\\tests\\test_wraparound.py -> build\\lib.win-amd64-3.8\\kwant\\tests\n",
      "  copying kwant\\tests\\__init__.py -> build\\lib.win-amd64-3.8\\kwant\\tests\n",
      "  creating build\\lib.win-amd64-3.8\\kwant\\continuum\\tests\n",
      "  copying kwant\\continuum\\tests\\test_common.py -> build\\lib.win-amd64-3.8\\kwant\\continuum\\tests\n",
      "  copying kwant\\continuum\\tests\\test_discretizer.py -> build\\lib.win-amd64-3.8\\kwant\\continuum\\tests\n",
      "  copying kwant\\continuum\\tests\\__init__.py -> build\\lib.win-amd64-3.8\\kwant\\continuum\\tests\n",
      "  creating build\\lib.win-amd64-3.8\\kwant\\graph\\tests\n",
      "  copying kwant\\graph\\tests\\test_core.py -> build\\lib.win-amd64-3.8\\kwant\\graph\\tests\n",
      "  copying kwant\\graph\\tests\\test_scotch.py -> build\\lib.win-amd64-3.8\\kwant\\graph\\tests\n",
      "  copying kwant\\graph\\tests\\__init__.py -> build\\lib.win-amd64-3.8\\kwant\\graph\\tests\n",
      "  creating build\\lib.win-amd64-3.8\\kwant\\linalg\\tests\n",
      "  copying kwant\\linalg\\tests\\test_linalg.py -> build\\lib.win-amd64-3.8\\kwant\\linalg\\tests\n",
      "  copying kwant\\linalg\\tests\\test_lll.py -> build\\lib.win-amd64-3.8\\kwant\\linalg\\tests\n",
      "  copying kwant\\linalg\\tests\\test_mumps.py -> build\\lib.win-amd64-3.8\\kwant\\linalg\\tests\n",
      "  copying kwant\\linalg\\tests\\_test_utils.py -> build\\lib.win-amd64-3.8\\kwant\\linalg\\tests\n",
      "  copying kwant\\linalg\\tests\\__init__.py -> build\\lib.win-amd64-3.8\\kwant\\linalg\\tests\n",
      "  creating build\\lib.win-amd64-3.8\\kwant\\physics\\tests\n",
      "  copying kwant\\physics\\tests\\test_dispersion.py -> build\\lib.win-amd64-3.8\\kwant\\physics\\tests\n",
      "  copying kwant\\physics\\tests\\test_gauge.py -> build\\lib.win-amd64-3.8\\kwant\\physics\\tests\n",
      "  copying kwant\\physics\\tests\\test_leads.py -> build\\lib.win-amd64-3.8\\kwant\\physics\\tests\n",
      "  copying kwant\\physics\\tests\\test_noise.py -> build\\lib.win-amd64-3.8\\kwant\\physics\\tests\n",
      "  copying kwant\\physics\\tests\\test_symmetry.py -> build\\lib.win-amd64-3.8\\kwant\\physics\\tests\n",
      "  copying kwant\\physics\\tests\\__init__.py -> build\\lib.win-amd64-3.8\\kwant\\physics\\tests\n",
      "  creating build\\lib.win-amd64-3.8\\kwant\\solvers\\tests\n",
      "  copying kwant\\solvers\\tests\\test_mumps.py -> build\\lib.win-amd64-3.8\\kwant\\solvers\\tests\n",
      "  copying kwant\\solvers\\tests\\test_sparse.py -> build\\lib.win-amd64-3.8\\kwant\\solvers\\tests\n",
      "  copying kwant\\solvers\\tests\\_test_sparse.py -> build\\lib.win-amd64-3.8\\kwant\\solvers\\tests\n",
      "  copying kwant\\solvers\\tests\\__init__.py -> build\\lib.win-amd64-3.8\\kwant\\solvers\\tests\n",
      "  copying kwant\\operator.pxd -> build\\lib.win-amd64-3.8\\kwant\n",
      "  copying kwant\\graph\\core.pxd -> build\\lib.win-amd64-3.8\\kwant\\graph\n",
      "  copying kwant\\graph\\c_scotch.pxd -> build\\lib.win-amd64-3.8\\kwant\\graph\n",
      "  copying kwant\\graph\\defs.pxd -> build\\lib.win-amd64-3.8\\kwant\\graph\n",
      "  copying kwant\\graph\\defs.h -> build\\lib.win-amd64-3.8\\kwant\\graph\n",
      "  copying kwant\\linalg\\cmumps.pxd -> build\\lib.win-amd64-3.8\\kwant\\linalg\n",
      "  running build_ext\n",
      "  building 'kwant._system' extension\n",
      "  \n",
      "  ************************************ Error ************************************\n",
      "  The compilation of Kwant has failed.  Please examine the error message\n",
      "  above and consult the installation instructions in README.rst.\n",
      "  You might have to customize build.conf.\n",
      "  \n",
      "  Build configuration was:\n",
      "  \n",
      "  ['No MUMPS support']\n",
      "  *******************************************************************************\n",
      "  \n",
      "  error: Microsoft Visual C++ 14.0 is required. Get it with \"Build Tools for Visual Studio\": https://visualstudio.microsoft.com/downloads/\n",
      "  ----------------------------------------\n",
      "  ERROR: Failed building wheel for kwant\n",
      "  ERROR: Command errored out with exit status 1:\n",
      "   command: 'c:\\users\\leblanco.oasis\\anaconda3\\python.exe' -u -c 'import sys, setuptools, tokenize; sys.argv[0] = '\"'\"'C:\\\\Users\\\\leblanco.OASIS\\\\AppData\\\\Local\\\\Temp\\\\pip-install-5j8cfyf3\\\\tinyarray\\\\setup.py'\"'\"'; __file__='\"'\"'C:\\\\Users\\\\leblanco.OASIS\\\\AppData\\\\Local\\\\Temp\\\\pip-install-5j8cfyf3\\\\tinyarray\\\\setup.py'\"'\"';f=getattr(tokenize, '\"'\"'open'\"'\"', open)(__file__);code=f.read().replace('\"'\"'\\r\\n'\"'\"', '\"'\"'\\n'\"'\"');f.close();exec(compile(code, __file__, '\"'\"'exec'\"'\"'))' bdist_wheel -d 'C:\\Users\\leblanco.OASIS\\AppData\\Local\\Temp\\pip-wheel-bjuox5hl'\n",
      "       cwd: C:\\Users\\leblanco.OASIS\\AppData\\Local\\Temp\\pip-install-5j8cfyf3\\tinyarray\\\n",
      "  Complete output (5 lines):\n",
      "  running bdist_wheel\n",
      "  running build\n",
      "  running build_ext\n",
      "  building 'tinyarray' extension\n",
      "  error: Microsoft Visual C++ 14.0 is required. Get it with \"Build Tools for Visual Studio\": https://visualstudio.microsoft.com/downloads/\n",
      "  ----------------------------------------\n",
      "  ERROR: Failed building wheel for tinyarray\n",
      "    ERROR: Command errored out with exit status 1:\n",
      "     command: 'c:\\users\\leblanco.oasis\\anaconda3\\python.exe' -u -c 'import sys, setuptools, tokenize; sys.argv[0] = '\"'\"'C:\\\\Users\\\\leblanco.OASIS\\\\AppData\\\\Local\\\\Temp\\\\pip-install-5j8cfyf3\\\\tinyarray\\\\setup.py'\"'\"'; __file__='\"'\"'C:\\\\Users\\\\leblanco.OASIS\\\\AppData\\\\Local\\\\Temp\\\\pip-install-5j8cfyf3\\\\tinyarray\\\\setup.py'\"'\"';f=getattr(tokenize, '\"'\"'open'\"'\"', open)(__file__);code=f.read().replace('\"'\"'\\r\\n'\"'\"', '\"'\"'\\n'\"'\"');f.close();exec(compile(code, __file__, '\"'\"'exec'\"'\"'))' install --record 'C:\\Users\\leblanco.OASIS\\AppData\\Local\\Temp\\pip-record-hi3kep6s\\install-record.txt' --single-version-externally-managed --compile --install-headers 'c:\\users\\leblanco.oasis\\anaconda3\\Include\\tinyarray'\n",
      "         cwd: C:\\Users\\leblanco.OASIS\\AppData\\Local\\Temp\\pip-install-5j8cfyf3\\tinyarray\\\n",
      "    Complete output (5 lines):\n",
      "    running install\n",
      "    running build\n",
      "    running build_ext\n",
      "    building 'tinyarray' extension\n",
      "    error: Microsoft Visual C++ 14.0 is required. Get it with \"Build Tools for Visual Studio\": https://visualstudio.microsoft.com/downloads/\n",
      "    ----------------------------------------\n",
      "ERROR: Command errored out with exit status 1: 'c:\\users\\leblanco.oasis\\anaconda3\\python.exe' -u -c 'import sys, setuptools, tokenize; sys.argv[0] = '\"'\"'C:\\\\Users\\\\leblanco.OASIS\\\\AppData\\\\Local\\\\Temp\\\\pip-install-5j8cfyf3\\\\tinyarray\\\\setup.py'\"'\"'; __file__='\"'\"'C:\\\\Users\\\\leblanco.OASIS\\\\AppData\\\\Local\\\\Temp\\\\pip-install-5j8cfyf3\\\\tinyarray\\\\setup.py'\"'\"';f=getattr(tokenize, '\"'\"'open'\"'\"', open)(__file__);code=f.read().replace('\"'\"'\\r\\n'\"'\"', '\"'\"'\\n'\"'\"');f.close();exec(compile(code, __file__, '\"'\"'exec'\"'\"'))' install --record 'C:\\Users\\leblanco.OASIS\\AppData\\Local\\Temp\\pip-record-hi3kep6s\\install-record.txt' --single-version-externally-managed --compile --install-headers 'c:\\users\\leblanco.oasis\\anaconda3\\Include\\tinyarray' Check the logs for full command output.\n"
     ]
    },
    {
     "ename": "ModuleNotFoundError",
     "evalue": "No module named 'kwant'",
     "output_type": "error",
     "traceback": [
      "\u001b[1;31m---------------------------------------------------------------------------\u001b[0m",
      "\u001b[1;31mModuleNotFoundError\u001b[0m                       Traceback (most recent call last)",
      "\u001b[1;32m<ipython-input-2-881c74d31782>\u001b[0m in \u001b[0;36m<module>\u001b[1;34m\u001b[0m\n\u001b[0;32m      1\u001b[0m \u001b[0mget_ipython\u001b[0m\u001b[1;33m(\u001b[0m\u001b[1;33m)\u001b[0m\u001b[1;33m.\u001b[0m\u001b[0msystem\u001b[0m\u001b[1;33m(\u001b[0m\u001b[1;34m'pip install kwant'\u001b[0m\u001b[1;33m)\u001b[0m\u001b[1;33m\u001b[0m\u001b[1;33m\u001b[0m\u001b[0m\n\u001b[1;32m----> 2\u001b[1;33m \u001b[1;32mimport\u001b[0m \u001b[0mkwant\u001b[0m\u001b[1;33m\u001b[0m\u001b[1;33m\u001b[0m\u001b[0m\n\u001b[0m\u001b[0;32m      3\u001b[0m \u001b[1;32mimport\u001b[0m \u001b[0mscipy\u001b[0m\u001b[1;33m\u001b[0m\u001b[1;33m\u001b[0m\u001b[0m\n\u001b[0;32m      4\u001b[0m \u001b[1;32mimport\u001b[0m \u001b[0mnumpy\u001b[0m \u001b[1;32mas\u001b[0m \u001b[0mnp\u001b[0m\u001b[1;33m\u001b[0m\u001b[1;33m\u001b[0m\u001b[0m\n\u001b[0;32m      5\u001b[0m \u001b[1;32mfrom\u001b[0m \u001b[0mmatplotlib\u001b[0m \u001b[1;32mimport\u001b[0m \u001b[0mpyplot\u001b[0m \u001b[1;32mas\u001b[0m \u001b[0mplt\u001b[0m\u001b[1;33m\u001b[0m\u001b[1;33m\u001b[0m\u001b[0m\n",
      "\u001b[1;31mModuleNotFoundError\u001b[0m: No module named 'kwant'"
     ]
    }
   ],
   "source": [
    "!pip install kwant\n",
    "import kwant\n",
    "import scipy\n",
    "import numpy as np\n",
    "from matplotlib import pyplot as plt\n",
    "from matplotlib import rc\n",
    "from scipy import signal as sig\n",
    "\n",
    "rc('font',**{'family':'sans-serif','sans-serif':['Helvetica']})\n",
    "rc('text', usetex=True)\n",
    "rc('xtick', labelsize=12) \n",
    "rc('ytick', labelsize=12)"
   ]
  },
  {
   "cell_type": "markdown",
   "metadata": {},
   "source": [
    "### Fundamental constants"
   ]
  },
  {
   "cell_type": "code",
   "execution_count": null,
   "metadata": {},
   "outputs": [],
   "source": [
    "h = 6.626069e-34    # Planck constant (Js)\n",
    "h_ = h/(2*np.pi)\n",
    "e = 1.602e-19      # electron charge (C)\n",
    "c = 299792458       # Light celerity (m/s)\n",
    "kB = 1.3806503e-23  # Boltzmann constant (kg m2/Ks2)\n",
    "m_e = 9.1e-31       # electron mass (kg)"
   ]
  },
  {
   "cell_type": "markdown",
   "metadata": {},
   "source": [
    "### Geometry of the device"
   ]
  },
  {
   "cell_type": "code",
   "execution_count": null,
   "metadata": {},
   "outputs": [],
   "source": [
    "\"Equilateral triangle\"\n",
    "def equitriangle (side):\n",
    "    def geom(pos):\n",
    "        x, y = pos\n",
    "        m1 = -1/np.sqrt(3)\n",
    "        p1 = side/2\n",
    "        m2 = 1/np.sqrt(3)\n",
    "        p2 = -side/2\n",
    "        return (x>=0 and x<side*np.sqrt(3)/2 and y>m2*x+p2 and y<m1*x+p1)\n",
    "    return geom\n",
    "\n",
    "\"Square\"\n",
    "def square(sidelength) :\n",
    "    def geom(pos):\n",
    "        x, y = pos\n",
    "        return (x>=-sidelength/2 and x<sidelength/2 and y>=-sidelength/2 and y<sidelength/2)\n",
    "    return geom\n",
    "\n",
    "\"Rectangle\"\n",
    "def rectangle(width, height):\n",
    "    def geom(pos):\n",
    "        x, y = pos\n",
    "        return (x>=-width/2 and x<width/2 and y>=-height/2 and y<height/2)\n",
    "    return geom\n",
    "    \n",
    "\"Circle\"\n",
    "def circle (radius) :\n",
    "    def geom(pos):\n",
    "        x, y = pos\n",
    "        return (x**2+y**2<radius**2)\n",
    "    return geom\n",
    "\n",
    "\"Ring\"\n",
    "def ring(inner_radius, outer_radius):\n",
    "    def geom(pos):\n",
    "        x, y = pos\n",
    "        r = np.sqrt(x**2 + y**2)\n",
    "        return np.logical_and(inner_radius < r, r < outer_radius)\n",
    "    return geom\n",
    "\n",
    "    \n",
    "\"Stadium\"\n",
    "def stadium(length, radius):\n",
    "    def geom(pos):\n",
    "        x, y = pos\n",
    "        return np.logical_or( np.logical_or((x-length/2)**2+y**2<(radius)**2, (x+length/2)**2+y**2<(radius)**2 ) , np.logical_and( np.abs(y)<radius, np.abs(x)<length/2) )\n",
    "    return geom\n",
    "\n",
    "def is_in_stadium(x, y, length, radius):\n",
    "    return np.logical_or( np.logical_or((x-length/2)**2+y**2<(radius)**2, (x+length/2)**2+y**2<(radius)**2 ) , np.logical_and( np.abs(y)<radius, np.abs(x)<length/2) )"
   ]
  },
  {
   "cell_type": "markdown",
   "metadata": {},
   "source": [
    "## Parameters of the experiment"
   ]
  },
  {
   "cell_type": "markdown",
   "metadata": {},
   "source": [
    "### Scaling"
   ]
  },
  {
   "cell_type": "code",
   "execution_count": null,
   "metadata": {},
   "outputs": [],
   "source": [
    "asquare = 0.25e-9 # [m] a is the lattice parameter\n",
    "tsquare = 2.8 # [eV] t is the hopping parameter\n",
    "scaling = 1.0 # scaling factor\n",
    "\"\"\"scaling\"\"\"\n",
    "a = asquare * scaling\n",
    "t = tsquare / scaling**2"
   ]
  },
  {
   "cell_type": "markdown",
   "metadata": {},
   "source": [
    "### Fermi energy, velocity and wavelength"
   ]
  },
  {
   "cell_type": "code",
   "execution_count": null,
   "metadata": {},
   "outputs": [],
   "source": [
    "\"Fermi energy\"\n",
    "Ef = 0.3106*t   # Chosen Fermi energy [eV]\n",
    "m = h_**2/(2*a**2*t) # Effective mass\n",
    "k_F = np.sqrt(2*m*Ef/(h_**2)) # Wavevector\n",
    "v_F = np.sqrt(2*Ef/m) # Fermi velocity\n",
    "\n",
    "print(\"k_F = \", k_F)\n",
    "print(\"E_F = \", Ef, \"eV\")\n",
    "print(\"vF = \", v_F)\n",
    "print(\"m* = \", m)"
   ]
  },
  {
   "cell_type": "markdown",
   "metadata": {},
   "source": [
    "### Verifying of the conditions"
   ]
  },
  {
   "cell_type": "code",
   "execution_count": null,
   "metadata": {},
   "outputs": [],
   "source": [
    "\"\"\" The wavelength must be (much more) larger than the lattice parameter \"\"\"\n",
    "lambda_F2 = 2 * np.pi * a * np.sqrt(t / Ef) \n",
    "print(\"\\lambda_F = \", lambda_F2)\n",
    "if lambda_F2/a < 2:\n",
    "    print('Warning : lambda_F must be larger than the lattice parameter a')\n",
    "    \n",
    "\"\"\" The Fermi energy must be smaller than the hopping parameter t\"\"\"\n",
    "print(\"E_F = \", Ef)\n",
    "if Ef/t > 0.5:\n",
    "    print('Warning : E_F must be smaller than the hopping parameter t')"
   ]
  },
  {
   "cell_type": "markdown",
   "metadata": {},
   "source": [
    "### Geometry of the leads"
   ]
  },
  {
   "cell_type": "code",
   "execution_count": null,
   "metadata": {},
   "outputs": [],
   "source": [
    "def lead_upper(width_lead):\n",
    "    def geom(pos):\n",
    "        x, y = pos\n",
    "        return -width_leads/2 < x < width_leads/2\n",
    "    return geom"
   ]
  },
  {
   "cell_type": "markdown",
   "metadata": {},
   "source": [
    "### Defining a smooth potential"
   ]
  },
  {
   "cell_type": "code",
   "execution_count": null,
   "metadata": {},
   "outputs": [],
   "source": [
    "def smooth_pot(site, effrad, radius, length, H):\n",
    "    x, y = site.pos\n",
    "    if ( abs(y) < radius and abs(x) < length/2 ):\n",
    "        pot = H* (y**2 -effrad**2) / (radius**2-effrad**2)\n",
    "    elif ( x > 0 ):\n",
    "        pot = H* ( (x-length/2)**2+y**2 -effrad**2 ) / (radius**2-effrad**2)\n",
    "    elif ( x < 0 ): \n",
    "        pot = H* ( (x+length/2)**2+y**2 -effrad**2 ) / (radius**2-effrad**2)\n",
    "    if ( (x-length/2)**2+y**2<effrad**2 or (x+length/2)**2+y**2<(effrad)**2 or ( np.abs(y)<effrad and np.abs(x)<length/2) ):\n",
    "        pot = 0\n",
    "    return pot"
   ]
  },
  {
   "cell_type": "markdown",
   "metadata": {},
   "source": [
    "### Placing all site in the bottom of the conduction band and adding the smooth potential"
   ]
  },
  {
   "cell_type": "code",
   "execution_count": null,
   "metadata": {},
   "outputs": [],
   "source": [
    "def onsite(site, Bfield, Vg):\n",
    "    \"\"\"\n",
    "    Definition of the potential. To reach the bottom of the conduction band, the potential is set at 4*t.\n",
    "    Then a smooth quadratic potential is added near the edges of the cavity.\n",
    "    \"\"\"\n",
    "    (x, y) = site.pos\n",
    "    return 4*t #+ smooth_pot(site, effrad, radius, length, H)"
   ]
  },
  {
   "cell_type": "markdown",
   "metadata": {},
   "source": [
    "#### The hopping parameter"
   ]
  },
  {
   "cell_type": "code",
   "execution_count": null,
   "metadata": {},
   "outputs": [],
   "source": [
    "def hopping(site_i, site_j, Bfield, Vg):\n",
    "    return t"
   ]
  },
  {
   "cell_type": "markdown",
   "metadata": {},
   "source": [
    "## Building the system"
   ]
  },
  {
   "cell_type": "code",
   "execution_count": null,
   "metadata": {},
   "outputs": [],
   "source": [
    "Bfield = 0 \n",
    "Vg = 0\n",
    "\" Parameters \" \n",
    "# lambda_F = lambda_F2*(4.75/6)\n",
    "lambda_F = lambda_F2\n",
    "radius = 4*lambda_F       # in [nm]\n",
    "length = 2*radius    # distance between the two semicircles\n",
    "print(length)\n",
    "width_leads = lambda_F2\n",
    "coeff = 0.6\n",
    "effrad = coeff*radius\n",
    "H = 0.1*t             # Potential height on the contour (in [eV])\n",
    "\n",
    "def sys_builder(a):\n",
    "    \n",
    "    lat = kwant.lattice.square(a, norbs = 1) # norbs gives the number of orbitals per atom. It is needed to compute J\n",
    "\n",
    "    sys = kwant.Builder() \n",
    "    \n",
    "    sys[lat.shape(stadium(length, radius), (0,0))] = onsite \n",
    "    \n",
    "    sys[lat.neighbors()] = hopping \n",
    "\n",
    "    \"\"\" Lead 1 \"\"\"\n",
    "    sym1 = kwant.TranslationalSymmetry(lat.vec((0, 1)))\n",
    "    lead1 = kwant.Builder(sym1)\n",
    "    lead1[lat.shape(lead_upper(width_leads), (0,0))] = 4*t \n",
    "    lead1[lat.neighbors()] = hopping\n",
    "    \"\"\" The leads are attached \"\"\"\n",
    "    sys.attach_lead(lead1)\n",
    "\n",
    "    sys = sys.finalized()\n",
    "    \n",
    "    return sys\n",
    "\n",
    "\"Building and plotting the system\"\n",
    "sys = sys_builder(a)\n",
    "figure = kwant.plot(sys, site_size = 1e-9, fig_size = (10,5), lead_color = 'r')"
   ]
  },
  {
   "cell_type": "markdown",
   "metadata": {},
   "source": [
    "### Computing the wave function and visualizing the pdf \n",
    "$P(\\mathbf{r}) = |\\Psi_n (\\mathbf{r})|^2 $ "
   ]
  },
  {
   "cell_type": "code",
   "execution_count": null,
   "metadata": {},
   "outputs": [],
   "source": [
    "import warnings\n",
    "warnings.filterwarnings(\"ignore\")"
   ]
  },
  {
   "cell_type": "code",
   "execution_count": null,
   "metadata": {
    "scrolled": true
   },
   "outputs": [],
   "source": [
    "nmodes = 16\n",
    "\n",
    "params = dict(r0=20, delta=10, J=0, Bfield = Bfield, Vg = Vg)\n",
    "wfs = kwant.wave_function(sys, energy=Ef, params=params) \n",
    "scattering_wf = wfs(0)  \n",
    "print(wfs(0).shape)\n",
    "proba = sum(abs(scattering_wf)**2)\n",
    "kwant.plotter.density(sys, proba, fig_size = (10,5), cmap='viridis')\n",
    "\n",
    "# Plot the different eigenmodes\n",
    "fig, axis = plt.subplots(int(np.ceil(nmodes/3)),3, sharey=True, figsize=(20, 20))\n",
    "fig.subplots_adjust(hspace=0.5)\n",
    "for i in np.arange(nmodes):\n",
    "    a1 = int(i%3)\n",
    "    b = int(np.floor(i/3))\n",
    "    kwant.plotter.density(sys, abs(scattering_wf[i])**2, ax=axis[b][a1])\n",
    "    axis[b][a1].set_title('State '+str(i+1)) "
   ]
  },
  {
   "cell_type": "markdown",
   "metadata": {},
   "source": [
    "### For different energy levels $E$"
   ]
  },
  {
   "cell_type": "code",
   "execution_count": null,
   "metadata": {},
   "outputs": [],
   "source": [
    "E=0.3257894736842106*t\n",
    "lambda_F3 = 2 * np.pi * a * np.sqrt(t / E)\n",
    "print(lambda_F3/radius)\n",
    "wfs = kwant.wave_function(sys, energy=E, params=dict(Bfield = Bfield, Vg=Vg)) \n",
    "scattering_wf = wfs(0)  \n",
    "kwant.plotter.density(sys, sum(abs(scattering_wf)**2))"
   ]
  },
  {
   "cell_type": "code",
   "execution_count": null,
   "metadata": {},
   "outputs": [],
   "source": [
    "n_subplots = 30\n",
    "energies = np.linspace(0.30*t, 0.35*t, n_subplots)\n",
    "\n",
    "fig, axis = plt.subplots(int(np.ceil(n_subplots/3)),3, sharey=True, figsize=(20, 20))\n",
    "fig.subplots_adjust(hspace=0.5)\n",
    "for i in np.arange(n_subplots):\n",
    "    E = energies[i]\n",
    "    a1 = int(i%3)\n",
    "    b = int(np.floor(i/3))\n",
    "    wfs = kwant.wave_function(sys, energy=E, params=dict(Bfield = Bfield, Vg=Vg)) \n",
    "    scattering_wf = wfs(0)  \n",
    "    kwant.plotter.density(sys, sum(abs(scattering_wf)**2), ax=axis[b][a1])\n",
    "    axis[b][a1].set_title('Ef/t '+str(E/t)) "
   ]
  },
  {
   "cell_type": "markdown",
   "metadata": {},
   "source": [
    "### Computing and plotting the Madelung transform\n",
    "The objective is to build $\\mathbf{v} (\\mathbf{x}, t) = \\frac{\\mathbf{j}(\\mathbf{x},t)}{|\\Psi (\\mathbf{x}, t)|^2}$ <br>\n",
    "$\\mathbf{j}(\\mathbf{x},t)$ is obtained using **kwant.operator.Current** <br>\n",
    "$|\\Psi (\\mathbf{x}, t)|^2$ is obtained using **kwant.wave_function** but must be extended to reach the length of the array containing the current components, whose length is the number of hoppings between the atoms inside the system"
   ]
  },
  {
   "cell_type": "code",
   "execution_count": null,
   "metadata": {},
   "outputs": [],
   "source": [
    "J0 = kwant.operator.Current(sys)\n",
    "current = sum(J0(p, params=dict(Bfield=Bfield, Vg=Vg)) for p in wfs(0)) # to sum over all the lead's mode\n",
    "wfs = kwant.wave_function(sys, energy=Ef, params=dict(Bfield = Bfield, Vg=Vg))\n",
    "proba = sum(abs(wfs(0))**2)\n",
    "\n",
    "# Probabibilty extension\n",
    "extended_proba = []\n",
    "for i, elem in enumerate(proba) :\n",
    "    x, y = sys.sites[i].pos\n",
    "    count = 0\n",
    "    vec = np.arange(2)+1\n",
    "    count += sum(is_in_stadium(x+a*(-1)**vec, y, length, radius))\n",
    "    count += sum(is_in_stadium(x, y+a*(-1)**vec, length, radius))\n",
    "    val = np.array(elem)\n",
    "    extended_proba = np.concatenate( (extended_proba, val.repeat(count, axis=0) ) )\n",
    "\n",
    "kwant.plotter.current(sys, current/extended_proba, cmap='viridis')\n"
   ]
  },
  {
   "cell_type": "markdown",
   "metadata": {},
   "source": [
    "### Observing recurences "
   ]
  },
  {
   "cell_type": "code",
   "execution_count": null,
   "metadata": {},
   "outputs": [],
   "source": [
    "# Reference scars pattern for the correlation\n",
    "wfs = kwant.wave_function(sys, energy=0.2*t, params=dict(Bfield = Bfield, Vg=Vg))\n",
    "scattering_wf = wfs(0)  \n",
    "proba = sum(abs(scattering_wf)**2)\n",
    "N = len(proba)\n",
    "fft_ref = np.fft.fft(proba)\n",
    "std_ref = np.sqrt( sum( (proba-np.mean(proba))**2))\n",
    "width = proba.shape\n",
    "kwant.plotter.map(sys, proba, fig_size = (10,5))\n",
    "# kwant.plotter.map(sys, abs(scattering_wf[0])**2, fig_size = (10,5))\n",
    "\n",
    "# Comparing the pattern with the ones for other energies\n",
    "n_elem = 10\n",
    "energies = np.linspace(0.2*t, 0.4*t, n_elem)\n",
    "corrvals = np.zeros(n_elem)\n",
    "\n",
    "for i in range(1, n_elem):\n",
    "    E = energies[i]\n",
    "    wfs = kwant.wave_function(sys, energy=E, params=dict(Bfield = Bfield, Vg=Vg)) # the wave function is obtained by giving the parameters in arguments   \n",
    "    scattering_wf = wfs(0) \n",
    "    probnow = sum(abs(scattering_wf)**2)\n",
    "    fft_now = np.fft.fft(probnow)\n",
    "    std_now = np.sqrt( sum( (probnow-np.mean(probnow))**2 ) )\n",
    "    corrvals[i] = np.sum( np.abs(np.fft.ifft(fft_ref*fft_now))) \n",
    "#     /(std_ref*std_now)\n",
    "#     kwant.plotter.map(sys, sum(abs(scattering_wf)**2), fig_size = (10,5)) # to map the wave function\n",
    "plt.show()\n",
    "\n",
    "# print(corrvals)\n",
    "plt.figure()\n",
    "plt.plot(energies/t, corrvals)\n",
    "plt.xlabel('$E_f/t$', fontsize=14)\n",
    "plt.ylabel('$Correlation$', fontsize=14)"
   ]
  },
  {
   "cell_type": "markdown",
   "metadata": {},
   "source": [
    "### Spectrum of the recurrence pattern"
   ]
  },
  {
   "cell_type": "code",
   "execution_count": null,
   "metadata": {},
   "outputs": [],
   "source": [
    "spec = np.fft.fft(corrvals)\n",
    "plt.plot(spec)"
   ]
  }
 ],
 "metadata": {
  "kernelspec": {
   "display_name": "Python 3",
   "language": "python",
   "name": "python3"
  },
  "language_info": {
   "codemirror_mode": {
    "name": "ipython",
    "version": 3
   },
   "file_extension": ".py",
   "mimetype": "text/x-python",
   "name": "python",
   "nbconvert_exporter": "python",
   "pygments_lexer": "ipython3",
   "version": "3.8.3"
  }
 },
 "nbformat": 4,
 "nbformat_minor": 2
}
