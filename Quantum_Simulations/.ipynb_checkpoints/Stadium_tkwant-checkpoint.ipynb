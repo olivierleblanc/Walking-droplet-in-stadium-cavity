{
 "cells": [
  {
   "cell_type": "markdown",
   "metadata": {},
   "source": [
    "# Classical and quantum dynamics of electrons in open stadium billiards"
   ]
  },
  {
   "cell_type": "code",
   "execution_count": 1,
   "metadata": {},
   "outputs": [
    {
     "name": "stderr",
     "output_type": "stream",
     "text": [
      "C:\\Users\\leblanco.OASIS\\Anaconda3\\lib\\site-packages\\kwant\\solvers\\default.py:16: RuntimeWarning: MUMPS is not available, SciPy built-in solver will be used as a fallback. Performance can be very poor in this case.\n",
      "  warnings.warn(\"MUMPS is not available, \"\n"
     ]
    },
    {
     "ename": "ModuleNotFoundError",
     "evalue": "No module named 'tkwant'",
     "output_type": "error",
     "traceback": [
      "\u001b[1;31m---------------------------------------------------------------------------\u001b[0m",
      "\u001b[1;31mModuleNotFoundError\u001b[0m                       Traceback (most recent call last)",
      "\u001b[1;32m<ipython-input-1-cd95f4640582>\u001b[0m in \u001b[0;36m<module>\u001b[1;34m\u001b[0m\n\u001b[0;32m      1\u001b[0m \u001b[1;32mimport\u001b[0m \u001b[0mkwant\u001b[0m\u001b[1;33m\u001b[0m\u001b[1;33m\u001b[0m\u001b[0m\n\u001b[1;32m----> 2\u001b[1;33m \u001b[1;32mimport\u001b[0m \u001b[0mtkwant\u001b[0m\u001b[1;33m\u001b[0m\u001b[1;33m\u001b[0m\u001b[0m\n\u001b[0m\u001b[0;32m      3\u001b[0m \u001b[1;32mfrom\u001b[0m \u001b[0mtkwant\u001b[0m \u001b[1;32mimport\u001b[0m \u001b[0monebody\u001b[0m\u001b[1;33m\u001b[0m\u001b[1;33m\u001b[0m\u001b[0m\n\u001b[0;32m      4\u001b[0m \u001b[1;32mimport\u001b[0m \u001b[0mscipy\u001b[0m\u001b[1;33m\u001b[0m\u001b[1;33m\u001b[0m\u001b[0m\n\u001b[0;32m      5\u001b[0m \u001b[1;32mimport\u001b[0m \u001b[0mnumpy\u001b[0m \u001b[1;32mas\u001b[0m \u001b[0mnp\u001b[0m\u001b[1;33m\u001b[0m\u001b[1;33m\u001b[0m\u001b[0m\n",
      "\u001b[1;31mModuleNotFoundError\u001b[0m: No module named 'tkwant'"
     ]
    }
   ],
   "source": [
    "import kwant\n",
    "import tkwant\n",
    "from tkwant import onebody\n",
    "import scipy\n",
    "import numpy as np\n",
    "from matplotlib import pyplot as plt\n",
    "from scipy import signal as sig"
   ]
  },
  {
   "cell_type": "markdown",
   "metadata": {},
   "source": [
    "### Geometry of the device"
   ]
  },
  {
   "cell_type": "code",
   "execution_count": null,
   "metadata": {},
   "outputs": [],
   "source": [
    "\"Stadium\"\n",
    "def stadium(length, radius):\n",
    "    def geom(pos):\n",
    "        x, y = pos\n",
    "        return np.logical_or( np.logical_or((x-length/2)**2+y**2<(radius)**2, (x+length/2)**2+y**2<(radius)**2 ) , np.logical_and( np.abs(y)<radius, np.abs(x)<length/2) )\n",
    "    return geom"
   ]
  },
  {
   "cell_type": "markdown",
   "metadata": {},
   "source": [
    "## Parameters of the experiment"
   ]
  },
  {
   "cell_type": "markdown",
   "metadata": {},
   "source": [
    "### Scaling"
   ]
  },
  {
   "cell_type": "code",
   "execution_count": null,
   "metadata": {},
   "outputs": [],
   "source": [
    "\"\"\"\n",
    "All the parameters are set to 1 as they are considered as undimensional\n",
    "\n",
    "\"\"\"\n",
    "\n",
    "asquare = 1. # arbitrary units\n",
    "tsquare = 1. # arbitrary units\n",
    "scaling = 1. # scaling factor\n",
    "\n",
    "\"\"\"scaling\"\"\"\n",
    "a = asquare * scaling\n",
    "t = tsquare / scaling**2"
   ]
  },
  {
   "cell_type": "markdown",
   "metadata": {},
   "source": [
    "### Fermi energy, velocity and wavelength"
   ]
  },
  {
   "cell_type": "code",
   "execution_count": null,
   "metadata": {},
   "outputs": [],
   "source": [
    "\"Fermi energy\"\n",
    "Ef = 0.3106*t   # Chosen Fermi energy [eV]\n",
    "\"The wavevector only depends on Ef, t and a as:\"\n",
    "k_F = np.sqrt(Ef/(t*a**2)) # Wavevector\n",
    "print(\"k_F = \", k_F)\n",
    "print(\"E_F = \", Ef)"
   ]
  },
  {
   "cell_type": "markdown",
   "metadata": {},
   "source": [
    "### Verifying of the conditions"
   ]
  },
  {
   "cell_type": "code",
   "execution_count": null,
   "metadata": {},
   "outputs": [],
   "source": [
    "\"\"\" The wavelength must be (much more) larger than the lattice parameter \"\"\"\n",
    "lambda_F = 2 * np.pi * a * np.sqrt(t / Ef) \n",
    "print(\"\\lambda_F = \", lambda_F)\n",
    "if lambda_F/a < 2:\n",
    "    print('Warning : lambda_F must be larger than the lattice parameter a')\n",
    "    \n",
    "\"\"\" The Fermi energy must be smaller than the hopping parameter t\"\"\"\n",
    "print(\"E_F = \", Ef)\n",
    "if Ef/t > 0.5:\n",
    "    print('Warning : E_F must be smaller than the hopping parameter t')"
   ]
  },
  {
   "cell_type": "markdown",
   "metadata": {},
   "source": [
    "### Defining a smooth potential"
   ]
  },
  {
   "cell_type": "code",
   "execution_count": null,
   "metadata": {},
   "outputs": [],
   "source": [
    "def smooth_pot(site, effrad, radius, length, H):\n",
    "    x, y = site.pos\n",
    "    if ( abs(y) < radius and abs(x) < length/2 ):\n",
    "        pot = H* (y**2 -effrad**2) / (radius**2-effrad**2)\n",
    "    elif ( x > 0 ):\n",
    "        pot = H* ( (x-length/2)**2+y**2 -effrad**2 ) / (radius**2-effrad**2)\n",
    "    elif ( x < 0 ): \n",
    "        pot = H* ( (x+length/2)**2+y**2 -effrad**2 ) / (radius**2-effrad**2)\n",
    "    if ( (x-length/2)**2+y**2<effrad**2 or (x+length/2)**2+y**2<(effrad)**2 or ( np.abs(y)<effrad and np.abs(x)<length/2) ):\n",
    "        pot = 0\n",
    "    return pot"
   ]
  },
  {
   "cell_type": "markdown",
   "metadata": {},
   "source": [
    "### Conduction band is shifted with respect to the Fermi energy defined at E = 0"
   ]
  },
  {
   "cell_type": "code",
   "execution_count": null,
   "metadata": {},
   "outputs": [],
   "source": [
    "def onsite(site):\n",
    "    \"\"\"\n",
    "    Definition of the potential. To reach the bottom of the conduction band, the potential is set at 4*t.\n",
    "    The conduction band is further shifted by Ef since the Fermi energy is defined at E = 0.\n",
    "    \n",
    "    \"\"\"\n",
    "    (x, y) = site.pos\n",
    "    return 4*t - Ef"
   ]
  },
  {
   "cell_type": "markdown",
   "metadata": {},
   "source": [
    "#### The hopping parameter"
   ]
  },
  {
   "cell_type": "code",
   "execution_count": null,
   "metadata": {},
   "outputs": [],
   "source": [
    "def hopping(site_i, site_j):\n",
    "    return -t"
   ]
  },
  {
   "cell_type": "markdown",
   "metadata": {},
   "source": [
    "## Building the system"
   ]
  },
  {
   "cell_type": "code",
   "execution_count": null,
   "metadata": {},
   "outputs": [],
   "source": [
    "\" Parameters \" \n",
    "radius = 4*lambda_F       # in [nm]\n",
    "length = 2*radius    # distance between the two semicircles\n",
    "print(length)\n",
    "coeff = 0.6\n",
    "effrad = coeff*radius\n",
    "H = 0.1*t             # Potential height on the contour (in [eV])"
   ]
  },
  {
   "cell_type": "code",
   "execution_count": null,
   "metadata": {},
   "outputs": [],
   "source": [
    "def sys_builder(a):\n",
    "    \n",
    "    lat = kwant.lattice.square(a, norbs = 1) # norbs gives the number of orbitals per atom. It is needed to compute J\n",
    "\n",
    "    sys = kwant.Builder() \n",
    "    \n",
    "    sys[lat.shape(stadium(length, radius), (0,0))] = onsite    \n",
    "    sys[lat.neighbors()] = hopping \n",
    "\n",
    "    sys = sys.finalized()\n",
    "    \n",
    "    return sys"
   ]
  },
  {
   "cell_type": "code",
   "execution_count": null,
   "metadata": {},
   "outputs": [],
   "source": [
    "\"Building and plotting the system\"\n",
    "sys = sys_builder(a)\n",
    "figure = kwant.plot(sys)"
   ]
  },
  {
   "cell_type": "code",
   "execution_count": null,
   "metadata": {
    "scrolled": false
   },
   "outputs": [],
   "source": [
    "# We build a 2xN array with the coordinates of all sites (x and y positions)\n",
    "ri = np.array([[site.pos[0], site.pos[1]] for site in sys.sites])\n",
    "\n",
    "# We define a time vector\n",
    "times = np.linspace(0, 1000, 30)\n",
    "\n",
    "# We build the density observable using kwant\n",
    "density_operator = kwant.operator.Density(sys)\n",
    "\n",
    "\"\"\" \n",
    "Here, we define a wavepacket in the system with a given width, a departing position and an initial \n",
    "velocitity vector defined by a norm (the velocity) and a direction (an angle).\n",
    "\n",
    "\"\"\"\n",
    "\n",
    "# Velocity of the wavepacket\n",
    "velocity = 1\n",
    "# The initial angle of the velocitiy vector\n",
    "angle = 45\n",
    "# Initial position of the wavepacket\n",
    "inipos = [20, 20]\n",
    "# Width of the wavepacket\n",
    "widthWP = 5\n",
    "\n",
    "# The wavevector k gives the orientation and the velocity (but not yet integrated here)\n",
    "k = [np.pi / 6, np.pi / 6]\n",
    "psi0 = np.exp(- ((ri[:,0] - inipos[0])**2 + (ri[:,1] - inipos[1])**2)/(widthWP**2/2) + 1j * np.dot(k, ri.T))\n",
    "\n",
    "# Initialize the solver with the wave function defined at t=0\n",
    "wave_func = onebody.WaveFunction.from_kwant(sys, psi0)\n",
    "\n",
    "# loop over timesteps and plot the result\n",
    "for time in times:\n",
    "    wave_func.evolve(time)\n",
    "    density = wave_func.evaluate(density_operator)\n",
    "    kwant.plotter.density(sys, 180 * density)"
   ]
  },
  {
   "cell_type": "code",
   "execution_count": null,
   "metadata": {},
   "outputs": [],
   "source": []
  }
 ],
 "metadata": {
  "kernelspec": {
   "display_name": "Python 3",
   "language": "python",
   "name": "python3"
  },
  "language_info": {
   "codemirror_mode": {
    "name": "ipython",
    "version": 3
   },
   "file_extension": ".py",
   "mimetype": "text/x-python",
   "name": "python",
   "nbconvert_exporter": "python",
   "pygments_lexer": "ipython3",
   "version": "3.8.3"
  }
 },
 "nbformat": 4,
 "nbformat_minor": 2
}
